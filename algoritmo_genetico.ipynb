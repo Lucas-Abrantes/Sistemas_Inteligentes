{
 "cells": [
  {
   "cell_type": "code",
   "execution_count": 25,
   "metadata": {},
   "outputs": [
    {
     "name": "stdout",
     "output_type": "stream",
     "text": [
      "x = 3.679409790233736 / f = -13.268877849640473\n"
     ]
    }
   ],
   "source": [
    "from random import uniform, randint\n",
    "import math\n",
    "\n",
    "\n",
    "def goal(x):\n",
    "    return x*x*(x - 1)*(x - 2)*(x -3)*(x - 4)\n",
    "\n",
    "\n",
    "class State:\n",
    "    \n",
    "    def __init__(self, x):\n",
    "        self.x = x\n",
    "        self.f = goal(x)\n",
    "\n",
    "\n",
    "def sucessor(s):\n",
    "    x1 = s.x  + uniform(-1.0, 1.0)\n",
    "    return State(x1)\n",
    "\n",
    "\n",
    "def initialState():\n",
    "    return State(uniform(-10, 10))\n",
    "\n",
    "\n",
    "def choose(set):\n",
    "    x = set[randint(0, len(set) - 1)]\n",
    "    y = set[randint(0, len(set) - 1)]\n",
    "    if(x.f < y.f):\n",
    "        return x\n",
    "    return y\n",
    "\n",
    "\n",
    "def cross(x, y):\n",
    "    next_x = (x.x + y.x)/2.0\n",
    "    return State(next_x)\n",
    "\n",
    "\n",
    "def mutate(s):\n",
    "    if(uniform(0.0, 1.0) < 0.9):\n",
    "        return sucessor(s)\n",
    "    return s\n",
    "\n",
    "\n",
    "population_size = 100\n",
    "number_of_generations = 100\n",
    "current_gen = []\n",
    "\n",
    "for i in range(population_size):\n",
    "    current_gen.append(initialState())\n",
    "\n",
    "for i in range(number_of_generations):\n",
    "    next_gen = []\n",
    "    for j in range(population_size):\n",
    "        x = choose(current_gen)\n",
    "        y = choose(current_gen)\n",
    "        child = cross(x, y)\n",
    "        child = mutate(child)\n",
    "        next_gen.append(child)\n",
    "    current_gen = next_gen\n",
    "\n",
    "best = current_gen[0]\n",
    "for s in current_gen:\n",
    "    if(s.f < best.f):\n",
    "        best = s\n",
    "\n",
    "print(f'x = {best.x} / f = {best.f}')"
   ]
  }
 ],
 "metadata": {
  "kernelspec": {
   "display_name": "base",
   "language": "python",
   "name": "python3"
  },
  "language_info": {
   "codemirror_mode": {
    "name": "ipython",
    "version": 3
   },
   "file_extension": ".py",
   "mimetype": "text/x-python",
   "name": "python",
   "nbconvert_exporter": "python",
   "pygments_lexer": "ipython3",
   "version": "3.9.7"
  },
  "orig_nbformat": 4
 },
 "nbformat": 4,
 "nbformat_minor": 2
}
