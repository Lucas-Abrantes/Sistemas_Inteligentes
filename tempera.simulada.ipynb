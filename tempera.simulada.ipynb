{
 "cells": [
  {
   "cell_type": "code",
   "execution_count": 25,
   "metadata": {},
   "outputs": [
    {
     "name": "stdout",
     "output_type": "stream",
     "text": [
      "x = 3.660906675580188, f = -13.274298156222168\n"
     ]
    }
   ],
   "source": [
    "from random import uniform\n",
    "import math\n",
    "\n",
    "\n",
    "def goal(x):\n",
    "    return x*x*(x - 1)*(x - 2)*(x -3)*(x - 4)\n",
    "\n",
    "\n",
    "class State:\n",
    "    \n",
    "    def __init__(self, x):\n",
    "        self.x = x\n",
    "        self.f = goal(x)\n",
    "\n",
    "\n",
    "def sucessor(s):\n",
    "    x1 = s.x  + uniform(-1.0, 1.0)\n",
    "    return State(x1)\n",
    "\n",
    "\n",
    "def initialState():\n",
    "    return State(uniform(-10, 10))\n",
    "\n",
    "\n",
    "atual= initialState()\n",
    "T = 1000.0\n",
    "   \n",
    "while(True):\n",
    "    T = 0.999 * T\n",
    "    if(T < 0.01):\n",
    "        break\n",
    "    vizinho = sucessor(atual)\n",
    "    delta = atual.f - vizinho.f\n",
    "    if(delta > 0):\n",
    "        atual = vizinho\n",
    "    elif (uniform(0.0, 1.0) < math.exp(delta/T)):\n",
    "        atual = vizinho\n",
    "\n",
    "print(f'x = {atual.x}, f = {atual.f}')"
   ]
  },
  {
   "cell_type": "code",
   "execution_count": null,
   "metadata": {},
   "outputs": [],
   "source": []
  }
 ],
 "metadata": {
  "kernelspec": {
   "display_name": "base",
   "language": "python",
   "name": "python3"
  },
  "language_info": {
   "codemirror_mode": {
    "name": "ipython",
    "version": 3
   },
   "file_extension": ".py",
   "mimetype": "text/x-python",
   "name": "python",
   "nbconvert_exporter": "python",
   "pygments_lexer": "ipython3",
   "version": "3.9.7"
  },
  "orig_nbformat": 4
 },
 "nbformat": 4,
 "nbformat_minor": 2
}
